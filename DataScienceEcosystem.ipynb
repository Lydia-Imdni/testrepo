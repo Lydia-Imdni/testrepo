{
 "cells": [
  {
   "cell_type": "markdown",
   "id": "095b830a-ccf2-46cb-981f-093f92ba422e",
   "metadata": {},
   "source": [
    "\n",
    "# Data Science Tools and Ecosystem"
   ]
  },
  {
   "cell_type": "markdown",
   "id": "3deb92e1-1c98-4fa6-a376-0feb5a6d3b59",
   "metadata": {},
   "source": [
    "# In this notebook, Data Science Tools and Ecosystem are summarized."
   ]
  },
  {
   "cell_type": "markdown",
   "id": "512634d2-d752-49bc-a91a-74e1220ce6fe",
   "metadata": {},
   "source": [
    "# Objectives\n",
    "##### (i.e. some of the key takeaways from the course)\n",
    "\n",
    "+ List popular languages for Data Science\n",
    "+ List of common libraries used in Data Science\n",
    "+ Arithmetic expressions\n",
    "+ Insert code and markdown cells "
   ]
  },
  {
   "cell_type": "markdown",
   "id": "324acec6-2011-4637-a94a-d46542d06791",
   "metadata": {},
   "source": [
    "## Some of the popular languages that Data Scientists use are: \n",
    "1. Python\n",
    "2. SQL\n",
    "3. R\n",
    "4. Julia"
   ]
  },
  {
   "cell_type": "markdown",
   "id": "36b9a4b1-6202-493a-886c-8ec4a02cefbf",
   "metadata": {},
   "source": [
    "## Some of the commonly used libraries used by Data Scientists include:\n",
    "+ pandas\n",
    "+ NumPy\n",
    "+ Matplotlib\n",
    "+ PyTorch\n",
    "+ Scikit-learn\n",
    "+ Tensorflow\n"
   ]
  },
  {
   "cell_type": "markdown",
   "id": "c0ff8222-a6d6-4396-8640-8b415bb02275",
   "metadata": {},
   "source": [
    "| Data Science Tools | \n",
    "| ------- |\n",
    "| VS Code |\n",
    "| Jupyter |\n",
    "| RStudio |\n"
   ]
  },
  {
   "cell_type": "markdown",
   "id": "393caab8-3c5e-4863-b1f7-3f6bea032db1",
   "metadata": {},
   "source": [
    "#### Below are a few examples of evaluating arithmetic expressions in Python"
   ]
  },
  {
   "cell_type": "code",
   "execution_count": 7,
   "id": "ed207d6e-216b-4470-ae01-75f21c877940",
   "metadata": {
    "tags": []
   },
   "outputs": [
    {
     "data": {
      "text/plain": [
       "17"
      ]
     },
     "execution_count": 7,
     "metadata": {},
     "output_type": "execute_result"
    }
   ],
   "source": [
    "(3*4)+5\n",
    "# This a simple arithmetic expression to mutiply then add integers"
   ]
  },
  {
   "cell_type": "code",
   "execution_count": 12,
   "id": "8e73f21d-4e24-4b45-a11a-19ada1303f73",
   "metadata": {
    "tags": []
   },
   "outputs": [
    {
     "data": {
      "text/plain": [
       "3.3333333333333335"
      ]
     },
     "execution_count": 12,
     "metadata": {},
     "output_type": "execute_result"
    }
   ],
   "source": [
    "200/60\n",
    "# This will convert 200 minutes to hours by diving by 60."
   ]
  },
  {
   "cell_type": "markdown",
   "id": "2594aea0-c8c6-453c-b658-960a122fd1e9",
   "metadata": {},
   "source": [
    "### Author\n",
    "Lydia IMDNI"
   ]
  }
 ],
 "metadata": {
  "kernelspec": {
   "display_name": "Python",
   "language": "python",
   "name": "conda-env-python-py"
  },
  "language_info": {
   "codemirror_mode": {
    "name": "ipython",
    "version": 3
   },
   "file_extension": ".py",
   "mimetype": "text/x-python",
   "name": "python",
   "nbconvert_exporter": "python",
   "pygments_lexer": "ipython3",
   "version": "3.7.12"
  }
 },
 "nbformat": 4,
 "nbformat_minor": 5
}
